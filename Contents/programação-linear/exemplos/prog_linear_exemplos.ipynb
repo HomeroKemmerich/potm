{
  "nbformat": 4,
  "nbformat_minor": 0,
  "metadata": {
    "colab": {
      "name": "prog_linear_exemplos.ipynb",
      "provenance": []
    },
    "kernelspec": {
      "name": "python3",
      "display_name": "Python 3"
    },
    "language_info": {
      "name": "python"
    }
  },
  "cells": [
    {
      "cell_type": "code",
      "metadata": {
        "colab": {
          "base_uri": "https://localhost:8080/"
        },
        "id": "cv6aFQKZiICI",
        "outputId": "6c1f1d4c-a304-4ad2-c17e-b1791c8fac55"
      },
      "source": [
        "import numpy as np\n",
        "from scipy.optimize import linprog\n",
        "\n",
        "# scipy.optimize.linprog(c, A_ub=None, b_ub=None, A_eq=None, b_eq=None, \n",
        "#                        bounds=None, method='simplex', callback=None, \n",
        "#                        options={'maxiter': 5000, 'disp': False, \n",
        "#                        'presolve': True, 'tol': 1e-12, 'autoscale': False, \n",
        "#                        'rr': True, 'bland': False}, x0=None)\n",
        "\n",
        "# A_ub e b_ub --> desigualdade \"<=\"\n",
        "# A_eq e b_eq --> igualdade \"=\"\n",
        "\n",
        "# exemplo dos slides\n",
        "f_obj = np.array([22, 18]) * -1 # o linprog é para minimização, para problemas\n",
        "                                # de maximização deve-se multiplicar os \n",
        "                                # valores de função objetivo por -1\n",
        "                                # o resultado final (opt.fun) deve ser\n",
        "                                # multiplicado por -1\n",
        "\n",
        "restricoes = np.array([[1.5, 1],[3, 2.5]])\n",
        "\n",
        "disponibilidade = np.array([15, 24])\n",
        "\n",
        "opt = linprog(c = f_obj, A_ub = restricoes, \n",
        "              b_ub = disponibilidade,\n",
        "              method=\"simplex\")\n",
        "opt"
      ],
      "execution_count": 1,
      "outputs": [
        {
          "output_type": "execute_result",
          "data": {
            "text/plain": [
              "     con: array([], dtype=float64)\n",
              "     fun: -176.0\n",
              " message: 'Optimization terminated successfully.'\n",
              "     nit: 2\n",
              "   slack: array([3., 0.])\n",
              "  status: 0\n",
              " success: True\n",
              "       x: array([8., 0.])"
            ]
          },
          "metadata": {},
          "execution_count": 1
        }
      ]
    },
    {
      "cell_type": "code",
      "metadata": {
        "colab": {
          "base_uri": "https://localhost:8080/"
        },
        "id": "szAzng1YsXV0",
        "outputId": "55f69cec-c2e0-410c-e1bc-69dcfeafd329"
      },
      "source": [
        "#!pip install pulp  # importando uma biblioteca que não está no Colab\n",
        "import pulp as p\n",
        "\n",
        "# exemplo dos slides\n",
        "\n",
        "# Cria um modelo de LP\n",
        "# LpMinimize (default) ou LpMaximize\n",
        "Lp_prob = p.LpProblem('Problema_Slides', p.LpMaximize)\n",
        "\n",
        "# Cria as variáveis do modelo\n",
        "x1 = p.LpVariable(\"x1\", lowBound = 0) # Create a variable x1 >= 0\n",
        "x2 = p.LpVariable(\"x2\", lowBound = 0) # Create a variable x2 >= 0\n",
        "\n",
        "# Função objetivo\n",
        "Lp_prob += 22 * x1 + 18 * x2\n",
        "\n",
        "# Restrições\n",
        "Lp_prob += 1.5 * x1 + x2 <= 15\n",
        "Lp_prob += 3 * x1 + 2.5 * x2 <= 24\n",
        "\n",
        "# Mostra o modelo\n",
        "print(Lp_prob)\n",
        "\n",
        "status = Lp_prob.solve() # Solver\n",
        "print(p.LpStatus[status]) # O status da solução\n",
        "\n",
        "# Mostra a solução final do modelo\n",
        "print(p.value(x1), p.value(x2), p.value(Lp_prob.objective))\n"
      ],
      "execution_count": 2,
      "outputs": [
        {
          "output_type": "stream",
          "name": "stdout",
          "text": [
            "Collecting pulp\n",
            "  Downloading PuLP-2.6.0-py3-none-any.whl (14.2 MB)\n",
            "\u001b[K     |████████████████████████████████| 14.2 MB 17.2 MB/s \n",
            "\u001b[?25hInstalling collected packages: pulp\n",
            "Successfully installed pulp-2.6.0\n",
            "Problema_Slides:\n",
            "MAXIMIZE\n",
            "22*x1 + 18*x2 + 0\n",
            "SUBJECT TO\n",
            "_C1: 1.5 x1 + x2 <= 15\n",
            "\n",
            "_C2: 3 x1 + 2.5 x2 <= 24\n",
            "\n",
            "VARIABLES\n",
            "x1 Continuous\n",
            "x2 Continuous\n",
            "\n",
            "Optimal\n",
            "8.0 0.0 176.0\n"
          ]
        }
      ]
    }
  ]
}