{
  "nbformat": 4,
  "nbformat_minor": 0,
  "metadata": {
    "colab": {
      "name": "hungaro_exercicios.ipynb",
      "provenance": []
    },
    "kernelspec": {
      "name": "python3",
      "display_name": "Python 3"
    },
    "language_info": {
      "name": "python"
    }
  },
  "cells": [
    {
      "cell_type": "code",
      "source": [
        "import numpy as np\n",
        "from scipy.optimize import linear_sum_assignment"
      ],
      "metadata": {
        "id": "WLO4qqbEFhPO"
      },
      "execution_count": 1,
      "outputs": []
    },
    {
      "cell_type": "code",
      "execution_count": null,
      "metadata": {
        "colab": {
          "base_uri": "https://localhost:8080/"
        },
        "id": "CgoYMJVXFVSD",
        "outputId": "2f610848-6d93-434c-9d0d-85d7549398ea"
      },
      "outputs": [
        {
          "output_type": "stream",
          "name": "stdout",
          "text": [
            "Solução =  [1 2 0] -->  30\n"
          ]
        }
      ],
      "source": [
        "# Exercício 3\n",
        "exe = np.array([[17, 4, 10], [15, 5, 8], [18, 7, 11]])\n",
        " \n",
        "row_ind, col_ind = linear_sum_assignment(exe)\n",
        "print(\"Solução = \",col_ind, \"--> \", exe[row_ind, col_ind].sum())"
      ]
    },
    {
      "cell_type": "code",
      "source": [
        "# Exercício 4\n",
        "exe = np.array([[12,  9,  7,  7, 10], [15, 11,  8, 13, 14], \n",
        "                [9,  6,  5, 12, 12], [6,  9, 13,  7, 10],\n",
        "                [8, 13, 12,  9, 13]])\n",
        " \n",
        "row_ind, col_ind = linear_sum_assignment(exe)\n",
        "print(\"Solução = \",col_ind, \"--> \", exe[row_ind, col_ind].sum())"
      ],
      "metadata": {
        "colab": {
          "base_uri": "https://localhost:8080/"
        },
        "id": "iStud7E1GqNs",
        "outputId": "e85d6d4a-1aae-43ca-9653-88399bd8230c"
      },
      "execution_count": null,
      "outputs": [
        {
          "output_type": "stream",
          "name": "stdout",
          "text": [
            "Solução =  [3 2 1 4 0] -->  39\n"
          ]
        }
      ]
    },
    {
      "cell_type": "code",
      "source": [
        "# Exercício 5\n",
        "exe = np.array([[150, 65, 210, 135, 0], [175, 75, 230, 155, 0], \n",
        "                [135, 85, 200, 140, 0], [140, 70, 190, 130, 0],\n",
        "                [170, 50, 200, 160, 0]])\n",
        " \n",
        "row_ind, col_ind = linear_sum_assignment(exe, maximize= True)\n",
        "print(\"Solução = \",col_ind, \"--> \", exe[row_ind, col_ind].sum())"
      ],
      "metadata": {
        "colab": {
          "base_uri": "https://localhost:8080/"
        },
        "id": "MoEkv7zSHFeF",
        "outputId": "3b670639-682d-4d70-e752-416b03b51831"
      },
      "execution_count": null,
      "outputs": [
        {
          "output_type": "stream",
          "name": "stdout",
          "text": [
            "Solução =  [2 0 1 4 3] -->  630\n"
          ]
        }
      ]
    },
    {
      "cell_type": "code",
      "source": [
        "# Exercício 6\n",
        "exe = np.array([[20, 15, 10, 10, 17, 23, 25,  5, 15], \n",
        "                [10, 10, 12, 15,  9,  7,  8,  7,  8], \n",
        "                [12,  9,  9, 10, 10,  5,  7, 13,  9], \n",
        "                [13, 14, 10, 15, 15,  5,  8, 20, 10],\n",
        "                [12, 13, 10, 15, 14,  5,  9, 20, 10], \n",
        "                [15, 14, 15, 16, 15,  5, 10, 20, 10],\n",
        "                [ 7,  9, 12, 12,  7,  6,  7, 15, 12], \n",
        "                [ 5,  6,  8,  8,  5,  4,  5, 10,  7],\n",
        "                [ 5,  6,  8,  8,  5,  4,  5, 10,  7]])\n",
        " \n",
        "row_ind, col_ind = linear_sum_assignment(exe, maximize= True)\n",
        "print(\"Solução = \",col_ind, \"--> \", exe[row_ind, col_ind].sum())"
      ],
      "metadata": {
        "colab": {
          "base_uri": "https://localhost:8080/"
        },
        "id": "9UwR0NZCoDqF",
        "outputId": "c9d9ae9c-2814-47d3-ccd7-52c6675de48d"
      },
      "execution_count": null,
      "outputs": [
        {
          "output_type": "stream",
          "name": "stdout",
          "text": [
            "Solução =  [6 3 0 4 7 1 8 2 5] -->  125\n"
          ]
        }
      ]
    }
  ]
}