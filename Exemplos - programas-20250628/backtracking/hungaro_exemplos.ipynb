{
  "nbformat": 4,
  "nbformat_minor": 0,
  "metadata": {
    "colab": {
      "name": "hungaro_exemplos.ipynb",
      "provenance": []
    },
    "kernelspec": {
      "name": "python3",
      "display_name": "Python 3"
    },
    "language_info": {
      "name": "python"
    }
  },
  "cells": [
    {
      "cell_type": "code",
      "source": [
        "import numpy as np\n",
        "from scipy.optimize import linear_sum_assignment"
      ],
      "metadata": {
        "id": "WLO4qqbEFhPO"
      },
      "execution_count": 1,
      "outputs": []
    },
    {
      "cell_type": "code",
      "execution_count": 2,
      "metadata": {
        "colab": {
          "base_uri": "https://localhost:8080/"
        },
        "id": "CgoYMJVXFVSD",
        "outputId": "f6c8b20e-e094-471d-8c13-c72bf6b5422f"
      },
      "outputs": [
        {
          "output_type": "stream",
          "name": "stdout",
          "text": [
            "Solução (colunas) =  [1 2 0] -->  176\n"
          ]
        }
      ],
      "source": [
        "# Exemplo 1\n",
        "x1 = np.array([[53, 47, 60], [96, 87, 92], [37, 41, 36]])\n",
        " \n",
        "row_ind, col_ind = linear_sum_assignment(x1)\n",
        "print(\"Solução (colunas) = \",col_ind, \"--> \", \n",
        "      x1[row_ind, col_ind].sum())"
      ]
    },
    {
      "cell_type": "code",
      "source": [
        "# Exemplo 2\n",
        "x2 = np.array([[90, 35, 125,  45], [75, 85,  95, 110], \n",
        "               [75, 55,  90,  95], [80, 65, 105, 115]])\n",
        " \n",
        "row_ind, col_ind = linear_sum_assignment(x2)\n",
        "print(\"Solução = \",col_ind, \"--> \", x2[row_ind, col_ind].sum()) "
      ],
      "metadata": {
        "colab": {
          "base_uri": "https://localhost:8080/"
        },
        "id": "iStud7E1GqNs",
        "outputId": "5004d45b-c396-4342-975e-7c0d3fcc0972"
      },
      "execution_count": 3,
      "outputs": [
        {
          "output_type": "stream",
          "name": "stdout",
          "text": [
            "Solução =  [3 0 2 1] -->  275\n"
          ]
        }
      ]
    },
    {
      "cell_type": "code",
      "source": [
        "# Exemplo 3\n",
        "x3 = np.array([[7, 4, 7, 3,10], [5, 9, 3, 8, 7], \n",
        "               [3, 5, 6, 2, 9], [6, 5, 0, 4, 8],\n",
        "               [0, 0, 0, 0, 0]])\n",
        " \n",
        "row_ind, col_ind = linear_sum_assignment(x3, maximize=True)\n",
        "print(\"Solução = \",col_ind, \"--> \", x3[row_ind, col_ind].sum()) "
      ],
      "metadata": {
        "colab": {
          "base_uri": "https://localhost:8080/"
        },
        "id": "MoEkv7zSHFeF",
        "outputId": "f46ff7c4-f27b-410a-a332-0d39e8794029"
      },
      "execution_count": null,
      "outputs": [
        {
          "output_type": "stream",
          "name": "stdout",
          "text": [
            "Solução =  [4 1 2 0 3] -->  31\n"
          ]
        }
      ]
    }
  ]
}